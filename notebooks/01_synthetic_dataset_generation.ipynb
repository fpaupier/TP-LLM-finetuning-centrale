{
 "cells": [
  {
   "cell_type": "markdown",
   "metadata": {},
   "source": [
    "# TP Partie 1 : Génération de Dataset Synthétique pour le Fine-tuning de LLM\n",
    "\n",
    "## 📚 Contexte\n",
    "\n",
    "Dans ce notebook, nous allons explorer la génération de datasets d'instruction synthétiques, une technique clé pour créer des données d'entraînement pour le fine-tuning de modèles de langage. Cette approche permet de :\n",
    "\n",
    "- **Créer des données d'entraînement** sans annotation manuelle coûteuse\n",
    "- **Adapter un modèle** à des domaines spécifiques\n",
    "- **Augmenter la diversité** des données existantes\n",
    "\n",
    "## 🎯 Objectifs\n",
    "\n",
    "1. **Comprendre** le processus de génération de données synthétiques\n",
    "2. **Implémenter** une pipeline de génération basée sur des documents sources\n",
    "3. **Créer** un dataset au format instruction-response utilisable pour le fine-tuning\n",
    "4. **Analyser** la qualité et la diversité des données générées\n",
    "\n",
    "## 🔧 Architecture\n",
    "\n",
    "Notre approche s'inspire de la méthodologie AWS pour la génération de données synthétiques :\n",
    "\n",
    "1. **Extraction de contexte** : Nous utilisons le corpus Common Corpus (split français)\n",
    "2. **Génération de questions** : Un LLM génère des questions pertinentes basées sur le contexte\n",
    "3. **Génération de réponses** : Le même ou un autre LLM génère des réponses aux questions\n",
    "4. **Formatage** : Structuration au format instruction-suivie pour le fine-tuning\n",
    "\n",
    "## ⚙️ Configuration\n",
    "\n",
    "Nous utilisons :\n",
    "- **vLLM** : Serveur d'inférence haute performance (déjà configuré sur votre machine)\n",
    "- **Qwen3-4B** : Modèle de base pour la génération\n",
    "- **Common Corpus** : Dataset source en français"
   ]
  },
  {
   "cell_type": "markdown",
   "metadata": {},
   "source": [
    "## 1. Import des bibliothèques et configuration"
   ]
  },
  {
   "cell_type": "code",
   "metadata": {
    "ExecuteTime": {
     "end_time": "2025-09-02T13:11:38.218460Z",
     "start_time": "2025-09-02T13:11:38.214681Z"
    }
   },
   "source": [
    "import json\n",
    "from typing import List, Dict, Optional, Tuple\n",
    "from dataclasses import dataclass, asdict\n",
    "import warnings\n",
    "warnings.filterwarnings('ignore')\n",
    "\n",
    "import pandas as pd\n",
    "import numpy as np\n",
    "from datasets import load_dataset\n",
    "from openai import OpenAI\n",
    "from tqdm.auto import tqdm\n",
    "import matplotlib.pyplot as plt\n",
    "import seaborn as sns\n",
    "from concurrent.futures import ThreadPoolExecutor, as_completed\n",
    "\n",
    "# Configuration visuelle\n",
    "sns.set_theme()\n",
    "plt.rcParams['figure.figsize'] = (10, 6)"
   ],
   "outputs": [],
   "execution_count": 25
  },
  {
   "metadata": {
    "ExecuteTime": {
     "end_time": "2025-09-02T13:20:46.598307Z",
     "start_time": "2025-09-02T13:20:46.582688Z"
    }
   },
   "cell_type": "code",
   "source": [
    "MODEL_NAME: str = \"Qwen/Qwen3-4B-Instruct-2507\"\n",
    "VLLM_HOST_IP: str = \"51.159.189.97\"\n",
    "VLLM_TOKEN: str = \"ecn-llm-token-update-this-secret\"  # Token défini dans start_vllm.sh"
   ],
   "outputs": [],
   "execution_count": 41
  },
  {
   "cell_type": "markdown",
   "metadata": {},
   "source": [
    "## 2. Configuration du client vLLM\n",
    "\n",
    "**Note importante** : Assurez-vous que votre serveur vLLM est lancé (`make vllm` dans un terminal séparé)"
   ]
  },
  {
   "cell_type": "code",
   "metadata": {
    "ExecuteTime": {
     "end_time": "2025-09-02T13:20:49.360629Z",
     "start_time": "2025-09-02T13:20:47.959783Z"
    }
   },
   "source": [
    "# Configuration du client OpenAI pour vLLM\n",
    "client = OpenAI(\n",
    "    base_url=f\"http://{VLLM_HOST_IP}:8000/v1\",\n",
    "    api_key=VLLM_TOKEN\n",
    ")\n",
    "\n",
    "# Test de connexion\n",
    "try:\n",
    "    models = client.models.list()\n",
    "    print(\"✅ Connexion au serveur vLLM réussie\")\n",
    "    print(f\"Modèle disponible : {models.data[0].id if models.data else 'Aucun'}\")\n",
    "except Exception as e:\n",
    "    print(f\"❌ Erreur de connexion : {e}\")\n",
    "    print(\"Assurez-vous d'avoir lancé le serveur vLLM avec 'make vllm'\")"
   ],
   "outputs": [
    {
     "name": "stdout",
     "output_type": "stream",
     "text": [
      "❌ Erreur de connexion : Connection error.\n",
      "Assurez-vous d'avoir lancé le serveur vLLM avec 'make vllm'\n"
     ]
    }
   ],
   "execution_count": 42
  },
  {
   "cell_type": "markdown",
   "metadata": {},
   "source": [
    "## 3. Chargement du dataset source\n",
    "\n",
    "Nous utilisons le **Common Corpus** en français comme base pour générer nos instructions synthétiques."
   ]
  },
  {
   "cell_type": "code",
   "metadata": {
    "ExecuteTime": {
     "end_time": "2025-09-02T12:46:14.031327Z",
     "start_time": "2025-09-02T12:45:31.993019Z"
    }
   },
   "source": [
    "# Chargement du dataset\n",
    "print(\"Chargement du dataset Common Corpus (split français)...\")\n",
    "dataset = load_dataset(\n",
    "    \"PleIAs/common_corpus\",\n",
    "    split=\"train\",\n",
    "    streaming=True,  # Streaming pour économiser la mémoire\n",
    ")\n",
    "\n",
    "# Échantillonnage pour le TP (ajustez selon vos besoins)\n",
    "SAMPLE_SIZE = 100  # Nombre de documents à traiter\n",
    "documents = []\n",
    "\n",
    "print(f\"Extraction de {SAMPLE_SIZE} documents...\")\n",
    "for i, doc in enumerate(tqdm(dataset, total=SAMPLE_SIZE)):\n",
    "    if i >= SAMPLE_SIZE:\n",
    "        break\n",
    "    # Filtrer les documents trop courts ou trop longs\n",
    "    if doc.get('text') and 100 < len(doc['text']) < 2000:\n",
    "        documents.append(doc['text'])\n",
    "\n",
    "print(f\"\\n📊 Documents collectés : {len(documents)}\")\n",
    "print(f\"Longueur moyenne : {np.mean([len(d) for d in documents]):.0f} caractères\")"
   ],
   "outputs": [
    {
     "name": "stdout",
     "output_type": "stream",
     "text": [
      "Chargement du dataset Common Corpus (split français)...\n"
     ]
    },
    {
     "data": {
      "text/plain": [
       "Resolving data files:   0%|          | 0/10011 [00:00<?, ?it/s]"
      ],
      "application/vnd.jupyter.widget-view+json": {
       "version_major": 2,
       "version_minor": 0,
       "model_id": "b0cbe30435154723a8621af17add24ea"
      }
     },
     "metadata": {},
     "output_type": "display_data",
     "jetTransient": {
      "display_id": null
     }
    },
    {
     "name": "stdout",
     "output_type": "stream",
     "text": [
      "Extraction de 100 documents...\n"
     ]
    },
    {
     "data": {
      "text/plain": [
       "  0%|          | 0/100 [00:00<?, ?it/s]"
      ],
      "application/vnd.jupyter.widget-view+json": {
       "version_major": 2,
       "version_minor": 0,
       "model_id": "d5000fead13342cda2521daf31e7e4bc"
      }
     },
     "metadata": {},
     "output_type": "display_data",
     "jetTransient": {
      "display_id": null
     }
    },
    {
     "name": "stdout",
     "output_type": "stream",
     "text": [
      "\n",
      "📊 Documents collectés : 36\n",
      "Longueur moyenne : 691 caractères\n"
     ]
    }
   ],
   "execution_count": 4
  },
  {
   "cell_type": "markdown",
   "metadata": {},
   "source": [
    "## 4. Définition des structures de données\n",
    "\n",
    "Nous utilisons des dataclasses pour structurer nos données de manière claire et typée."
   ]
  },
  {
   "cell_type": "code",
   "metadata": {
    "ExecuteTime": {
     "end_time": "2025-09-02T13:11:48.376230Z",
     "start_time": "2025-09-02T13:11:48.362156Z"
    }
   },
   "source": [
    "@dataclass\n",
    "class InstructionPair:\n",
    "    \"\"\"Structure pour une paire instruction-réponse\"\"\"\n",
    "    instruction: str\n",
    "    response: str\n",
    "    context: str\n",
    "    metadata: Dict = None\n",
    "    \n",
    "    def to_dict(self) -> Dict:\n",
    "        return asdict(self)\n",
    "    \n",
    "    def to_alpaca_format(self) -> Dict:\n",
    "        \"\"\"Conversion au format Alpaca standard\"\"\"\n",
    "        return {\n",
    "            \"instruction\": self.instruction,\n",
    "            \"input\": \"\",  # Contexte optionnel\n",
    "            \"output\": self.response\n",
    "        }"
   ],
   "outputs": [],
   "execution_count": 26
  },
  {
   "cell_type": "markdown",
   "metadata": {},
   "source": [
    "## 5. Pipeline de génération synthétique\n",
    "\n",
    "### 5.1 Prompts pour la génération\n",
    "\n",
    "Nous définissons des prompts soigneusement conçus pour générer des questions et réponses de qualité."
   ]
  },
  {
   "cell_type": "code",
   "metadata": {
    "ExecuteTime": {
     "end_time": "2025-09-02T12:49:41.721525Z",
     "start_time": "2025-09-02T12:49:41.718697Z"
    }
   },
   "source": "# Templates de prompts pour la génération\nQUESTION_GENERATION_PROMPT = \"\"\"Tu es un assistant pédagogique expert. À partir du texte suivant, génère une question pertinente en français.\n\nLa question doit :\n- Être claire et précise\n- Être directement basée sur le contenu du texte\n- Être formulée en français correct\n- Être adaptée pour un test de compréhension\n\nTexte source :\n{context}\n\nGénère une seule question de haute qualité.\n\"\"\"\n\nANSWER_GENERATION_PROMPT = \"\"\"Tu es un assistant expert. Réponds à la question suivante de manière claire, précise et pédagogique en te basant sur le contexte fourni.\n\nContexte :\n{context}\n\nQuestion :\n{question}\n\nRéponse :\n\"\"\"",
   "outputs": [],
   "execution_count": 7
  },
  {
   "cell_type": "markdown",
   "metadata": {},
   "source": [
    "### 5.2 Fonctions de génération"
   ]
  },
  {
   "cell_type": "code",
   "metadata": {
    "ExecuteTime": {
     "end_time": "2025-09-02T13:11:51.558694Z",
     "start_time": "2025-09-02T13:11:51.554871Z"
    }
   },
   "source": [
    "def generate_question(context: str) -> str:\n",
    "    \"\"\"\n",
    "    Génère une question basée sur un contexte donné en utilisant structured output.\n",
    "    \n",
    "    Args:\n",
    "        context: Le texte source\n",
    "    \n",
    "    Returns:\n",
    "        Question générée\n",
    "    \"\"\"\n",
    "    try:\n",
    "        response = client.chat.completions.create(\n",
    "            model=MODEL_NAME,\n",
    "            messages=[\n",
    "                {\"role\": \"system\", \"content\": \"Tu es un assistant qui génère des questions pédagogiques.\"},\n",
    "                {\"role\": \"user\", \"content\": QUESTION_GENERATION_PROMPT.format(\n",
    "                    context=context[:1500]  # Limiter la longueur du contexte\n",
    "                )}\n",
    "            ],\n",
    "            temperature=0.7,\n",
    "            max_tokens=200,\n",
    "            response_format={\n",
    "                \"type\": \"json_schema\",\n",
    "                \"json_schema\": {\n",
    "                    \"name\": \"question_response\",\n",
    "                    \"strict\": True,\n",
    "                    \"schema\": {\n",
    "                        \"type\": \"object\",\n",
    "                        \"properties\": {\n",
    "                            \"question\": {\n",
    "                                \"type\": \"string\",\n",
    "                                \"description\": \"La question générée basée sur le contexte\"\n",
    "                            }\n",
    "                        },\n",
    "                        \"required\": [\"question\"],\n",
    "                        \"additionalProperties\": False\n",
    "                    }\n",
    "                }\n",
    "            }\n",
    "        )\n",
    "        \n",
    "        # Extraction de la question du JSON structuré\n",
    "        content = response.choices[0].message.content\n",
    "        import json\n",
    "        result = json.loads(content)\n",
    "        return result[\"question\"]\n",
    "        \n",
    "    except Exception as e:\n",
    "        print(f\"Erreur lors de la génération de question : {e}\")\n",
    "        return \"Quelle est l'idée principale de ce texte ?\"\n",
    "\n",
    "\n",
    "def generate_answer(context: str, question: str) -> str:\n",
    "    \"\"\"\n",
    "    Génère une réponse à une question basée sur un contexte.\n",
    "    \n",
    "    Args:\n",
    "        context: Le texte source\n",
    "        question: La question à répondre\n",
    "    \n",
    "    Returns:\n",
    "        Réponse générée\n",
    "    \"\"\"\n",
    "    try:\n",
    "        response = client.chat.completions.create(\n",
    "            model=MODEL_NAME,\n",
    "            messages=[\n",
    "                {\"role\": \"system\", \"content\": \"Tu es un assistant expert qui répond de manière claire et pédagogique.\"},\n",
    "                {\"role\": \"user\", \"content\": ANSWER_GENERATION_PROMPT.format(\n",
    "                    context=context[:1500],\n",
    "                    question=question\n",
    "                )}\n",
    "            ],\n",
    "            temperature=0.3,  # Température plus basse pour des réponses cohérentes\n",
    "            max_tokens=500\n",
    "        )\n",
    "        \n",
    "        return response.choices[0].message.content.strip()\n",
    "        \n",
    "    except Exception as e:\n",
    "        print(f\"Erreur lors de la génération de réponse : {e}\")\n",
    "        return \"Je ne peux pas répondre à cette question basée sur le contexte fourni.\""
   ],
   "outputs": [],
   "execution_count": 27
  },
  {
   "cell_type": "markdown",
   "metadata": {},
   "source": [
    "### 5.3 Pipeline complète de génération"
   ]
  },
  {
   "cell_type": "code",
   "metadata": {
    "ExecuteTime": {
     "end_time": "2025-09-02T13:11:53.727215Z",
     "start_time": "2025-09-02T13:11:53.719661Z"
    }
   },
   "source": [
    "def process_single_document(doc: str) -> Optional[InstructionPair]:\n",
    "    \"\"\"\n",
    "    Traite un seul document pour générer une paire instruction-réponse.\n",
    "    \n",
    "    Args:\n",
    "        doc: Le document à traiter\n",
    "    \n",
    "    Returns:\n",
    "        InstructionPair ou None si la génération échoue\n",
    "    \"\"\"\n",
    "    try:\n",
    "        # Créer un client local pour ce thread\n",
    "        thread_client = OpenAI(\n",
    "            base_url=f\"http://{VLLM_HOST_IP}:8000/v1\",\n",
    "            api_key=VLLM_TOKEN\n",
    "        )\n",
    "        \n",
    "        # Générer une seule question\n",
    "        question = generate_question_with_client(thread_client, doc)\n",
    "        \n",
    "        if question and len(question) > 10:  # Filtre de qualité basique\n",
    "            # Générer la réponse\n",
    "            answer = generate_answer_with_client(thread_client, doc, question)\n",
    "            \n",
    "            if answer and len(answer) > 20:  # Filtre de qualité pour la réponse\n",
    "                return InstructionPair(\n",
    "                    instruction=question,\n",
    "                    response=answer,\n",
    "                    context=doc[:500],  # Garder un extrait du contexte\n",
    "                    metadata={\n",
    "                        \"source\": \"common_corpus_fr\",\n",
    "                        \"generation_method\": \"vllm_qwen3_4b_structured_concurrent\"\n",
    "                    }\n",
    "                )\n",
    "    except Exception as e:\n",
    "        print(f\"Erreur lors du traitement d'un document : {e}\")\n",
    "    \n",
    "    return None\n",
    "\n",
    "\n",
    "def generate_question_with_client(client: OpenAI, context: str) -> str:\n",
    "    \"\"\"\n",
    "    Génère une question basée sur un contexte donné en utilisant structured output.\n",
    "    \n",
    "    Args:\n",
    "        client: Le client OpenAI à utiliser\n",
    "        context: Le texte source\n",
    "    \n",
    "    Returns:\n",
    "        Question générée\n",
    "    \"\"\"\n",
    "    try:\n",
    "        response = client.chat.completions.create(\n",
    "            model=MODEL_NAME,\n",
    "            messages=[\n",
    "                {\"role\": \"system\", \"content\": \"Tu es un assistant qui génère des questions pédagogiques.\"},\n",
    "                {\"role\": \"user\", \"content\": QUESTION_GENERATION_PROMPT.format(\n",
    "                    context=context[:1500]  # Limiter la longueur du contexte\n",
    "                )}\n",
    "            ],\n",
    "            temperature=0.7,\n",
    "            max_tokens=200,\n",
    "            response_format={\n",
    "                \"type\": \"json_schema\",\n",
    "                \"json_schema\": {\n",
    "                    \"name\": \"question_response\",\n",
    "                    \"strict\": True,\n",
    "                    \"schema\": {\n",
    "                        \"type\": \"object\",\n",
    "                        \"properties\": {\n",
    "                            \"question\": {\n",
    "                                \"type\": \"string\",\n",
    "                                \"description\": \"La question générée basée sur le contexte\"\n",
    "                            }\n",
    "                        },\n",
    "                        \"required\": [\"question\"],\n",
    "                        \"additionalProperties\": False\n",
    "                    }\n",
    "                }\n",
    "            }\n",
    "        )\n",
    "        \n",
    "        # Extraction de la question du JSON structuré\n",
    "        content = response.choices[0].message.content\n",
    "        result = json.loads(content)\n",
    "        return result[\"question\"]\n",
    "        \n",
    "    except Exception as e:\n",
    "        print(f\"Erreur lors de la génération de question : {e}\")\n",
    "        return \"Quelle est l'idée principale de ce texte ?\"\n",
    "\n",
    "\n",
    "def generate_answer_with_client(client: OpenAI, context: str, question: str) -> str:\n",
    "    \"\"\"\n",
    "    Génère une réponse à une question basée sur un contexte.\n",
    "    \n",
    "    Args:\n",
    "        client: Le client OpenAI à utiliser\n",
    "        context: Le texte source\n",
    "        question: La question à répondre\n",
    "    \n",
    "    Returns:\n",
    "        Réponse générée\n",
    "    \"\"\"\n",
    "    try:\n",
    "        response = client.chat.completions.create(\n",
    "            model=MODEL_NAME,\n",
    "            messages=[\n",
    "                {\"role\": \"system\", \"content\": \"Tu es un assistant expert qui répond de manière claire et pédagogique.\"},\n",
    "                {\"role\": \"user\", \"content\": ANSWER_GENERATION_PROMPT.format(\n",
    "                    context=context[:1500],\n",
    "                    question=question\n",
    "                )}\n",
    "            ],\n",
    "            temperature=0.3,  # Température plus basse pour des réponses cohérentes\n",
    "            max_tokens=500\n",
    "        )\n",
    "        \n",
    "        return response.choices[0].message.content.strip()\n",
    "        \n",
    "    except Exception as e:\n",
    "        print(f\"Erreur lors de la génération de réponse : {e}\")\n",
    "        return \"Je ne peux pas répondre à cette question basée sur le contexte fourni.\"\n",
    "\n",
    "\n",
    "def generate_instruction_pairs(\n",
    "    documents: List[str], \n",
    "    max_docs: Optional[int] = None,\n",
    "    max_workers: int = 10\n",
    ") -> List[InstructionPair]:\n",
    "    \"\"\"\n",
    "    Génère des paires instruction-réponse à partir de documents avec des appels concurrents.\n",
    "    \n",
    "    Args:\n",
    "        documents: Liste de documents sources\n",
    "        max_docs: Nombre maximum de documents à traiter\n",
    "        max_workers: Nombre maximum de workers concurrents (max 10)\n",
    "    \n",
    "    Returns:\n",
    "        Liste de paires instruction-réponse\n",
    "    \"\"\"\n",
    "    instruction_pairs = []\n",
    "    docs_to_process = documents[:max_docs] if max_docs else documents\n",
    "    \n",
    "    # Limiter le nombre de workers à 10\n",
    "    max_workers = min(max_workers, 10)\n",
    "    \n",
    "    print(f\"🔄 Traitement concurrent avec {max_workers} workers...\")\n",
    "    \n",
    "    with ThreadPoolExecutor(max_workers=max_workers) as executor:\n",
    "        # Soumettre toutes les tâches\n",
    "        future_to_doc = {\n",
    "            executor.submit(process_single_document, doc): doc \n",
    "            for doc in docs_to_process\n",
    "        }\n",
    "        \n",
    "        # Traiter les résultats au fur et à mesure\n",
    "        with tqdm(total=len(docs_to_process), desc=\"Documents traités\") as pbar:\n",
    "            for future in as_completed(future_to_doc):\n",
    "                try:\n",
    "                    result = future.result()\n",
    "                    if result:\n",
    "                        instruction_pairs.append(result)\n",
    "                except Exception as e:\n",
    "                    print(f\"Erreur lors du traitement : {e}\")\n",
    "                finally:\n",
    "                    pbar.update(1)\n",
    "    \n",
    "    return instruction_pairs"
   ],
   "outputs": [],
   "execution_count": 28
  },
  {
   "cell_type": "markdown",
   "metadata": {},
   "source": [
    "## 6. Génération du dataset synthétique\n",
    "\n",
    "**⚠️ Note** : Cette étape peut prendre plusieurs minutes selon le nombre de documents et la capacité de votre GPU."
   ]
  },
  {
   "cell_type": "code",
   "metadata": {
    "ExecuteTime": {
     "end_time": "2025-09-02T13:13:31.287269Z",
     "start_time": "2025-09-02T13:12:13.531034Z"
    }
   },
   "source": "# Paramètres de génération\nNUM_DOCS_TO_PROCESS = 50  # Augmenté pour profiter du traitement concurrent\nMAX_WORKERS = 10  # Nombre maximum de workers concurrents\n\nprint(f\"🚀 Démarrage de la génération synthétique\")\nprint(f\"   - Documents à traiter : {NUM_DOCS_TO_PROCESS}\")\nprint(f\"   - Workers concurrents : {MAX_WORKERS}\")\nprint(f\"   - Questions par document : 1\")\nprint(f\"   - Paires attendues : ~{NUM_DOCS_TO_PROCESS}\\n\")\n\n# Génération\nsynthetic_pairs = generate_instruction_pairs(\n    documents,\n    max_docs=NUM_DOCS_TO_PROCESS,\n    max_workers=MAX_WORKERS\n)\n\nprint(f\"\\n✅ Génération terminée : {len(synthetic_pairs)} paires créées\")",
   "outputs": [
    {
     "name": "stdout",
     "output_type": "stream",
     "text": [
      "🚀 Démarrage de la génération synthétique\n",
      "   - Documents à traiter : 50\n",
      "   - Workers concurrents : 10\n",
      "   - Questions par document : 1\n",
      "   - Paires attendues : ~50\n",
      "\n",
      "🔄 Traitement concurrent avec 10 workers...\n"
     ]
    },
    {
     "data": {
      "text/plain": [
       "Documents traités:   0%|          | 0/36 [00:00<?, ?it/s]"
      ],
      "application/vnd.jupyter.widget-view+json": {
       "version_major": 2,
       "version_minor": 0,
       "model_id": "99065f28c0654767854c29ae9d66f1a9"
      }
     },
     "metadata": {},
     "output_type": "display_data",
     "jetTransient": {
      "display_id": null
     }
    },
    {
     "name": "stdout",
     "output_type": "stream",
     "text": [
      "\n",
      "✅ Génération terminée : 36 paires créées\n"
     ]
    }
   ],
   "execution_count": 31
  },
  {
   "cell_type": "markdown",
   "metadata": {},
   "source": [
    "## 7. Analyse et visualisation du dataset généré"
   ]
  },
  {
   "cell_type": "code",
   "metadata": {
    "ExecuteTime": {
     "end_time": "2025-09-02T13:13:40.324502Z",
     "start_time": "2025-09-02T13:13:40.318513Z"
    }
   },
   "source": [
    "# Conversion en DataFrame pour l'analyse\n",
    "df = pd.DataFrame([pair.to_dict() for pair in synthetic_pairs])\n",
    "\n",
    "# Statistiques de base\n",
    "print(\"📊 Statistiques du dataset généré :\")\n",
    "print(f\"   - Nombre total de paires : {len(df)}\")\n",
    "print(f\"   - Longueur moyenne des instructions : {df['instruction'].str.len().mean():.0f} caractères\")\n",
    "print(f\"   - Longueur moyenne des réponses : {df['response'].str.len().mean():.0f} caractères\")\n",
    "\n",
    "# Affichage d'exemples\n",
    "print(\"\\n📝 Exemples de paires générées :\\n\")\n",
    "for i in range(min(3, len(synthetic_pairs))):\n",
    "    print(f\"--- Exemple {i+1} ---\")\n",
    "    print(f\"Instruction : {synthetic_pairs[i].instruction}\")\n",
    "    print(f\"Réponse : {synthetic_pairs[i].response[:200]}...\\n\")"
   ],
   "outputs": [
    {
     "name": "stdout",
     "output_type": "stream",
     "text": [
      "📊 Statistiques du dataset généré :\n",
      "   - Nombre total de paires : 36\n",
      "   - Longueur moyenne des instructions : 108 caractères\n",
      "   - Longueur moyenne des réponses : 882 caractères\n",
      "\n",
      "📝 Exemples de paires générées :\n",
      "\n",
      "--- Exemple 1 ---\n",
      "Instruction : En quelle année a eu lieu la consultation de l'élection étatique de Katanning ?\n",
      "Réponse : La consultation de l'élection étatique de Katanning a eu lieu en **1935**....\n",
      "\n",
      "--- Exemple 2 ---\n",
      "Instruction : Quel est le nom du catégory de Wikimedia qui regroupe les icefalls de la région de Ross Dependency ?\n",
      "Réponse : Le nom du catégory de Wikimedia qui regroupe les icefalls de la région de Ross Dependency est **\"Category:Icefalls of the Ross Dependency\"**....\n",
      "\n",
      "--- Exemple 3 ---\n",
      "Instruction : Dans quel film Jean Pierre Melville évoque-t-il le dernier rôle de Bourvil, et en quelle année a été tourné ce film ?\n",
      "Réponse : Jean Pierre Melville évoque le dernier rôle de Bourvil dans le film **\"Le cercle rouge\"**, qui a été **tourné en 1970**....\n",
      "\n"
     ]
    }
   ],
   "execution_count": 32
  },
  {
   "cell_type": "code",
   "metadata": {
    "ExecuteTime": {
     "end_time": "2025-09-02T13:13:41.409878Z",
     "start_time": "2025-09-02T13:13:41.238971Z"
    }
   },
   "source": [
    "# Visualisations\n",
    "fig, axes = plt.subplots(1, 2, figsize=(14, 5))\n",
    "\n",
    "# Distribution des longueurs d'instructions\n",
    "axes[0].hist(df['instruction'].str.len(), bins=20, edgecolor='black', alpha=0.7)\n",
    "axes[0].set_xlabel('Longueur (caractères)')\n",
    "axes[0].set_ylabel('Fréquence')\n",
    "axes[0].set_title('Distribution des longueurs d\\'instructions')\n",
    "axes[0].axvline(df['instruction'].str.len().mean(), color='red', \n",
    "                linestyle='--', label=f'Moyenne: {df[\"instruction\"].str.len().mean():.0f}')\n",
    "axes[0].legend()\n",
    "\n",
    "# Distribution des longueurs de réponses\n",
    "axes[1].hist(df['response'].str.len(), bins=20, edgecolor='black', alpha=0.7, color='green')\n",
    "axes[1].set_xlabel('Longueur (caractères)')\n",
    "axes[1].set_ylabel('Fréquence')\n",
    "axes[1].set_title('Distribution des longueurs de réponses')\n",
    "axes[1].axvline(df['response'].str.len().mean(), color='red', \n",
    "                linestyle='--', label=f'Moyenne: {df[\"response\"].str.len().mean():.0f}')\n",
    "axes[1].legend()\n",
    "\n",
    "plt.tight_layout()\n",
    "plt.show()"
   ],
   "outputs": [
    {
     "data": {
      "text/plain": [
       "<Figure size 1400x500 with 2 Axes>"
      ],
      "image/png": "[encoded data removed]"
     },
     "metadata": {},
     "output_type": "display_data",
     "jetTransient": {
      "display_id": null
     }
    }
   ],
   "execution_count": 33
  },
  {
   "cell_type": "markdown",
   "metadata": {},
   "source": [
    "## 8. Sauvegarde du dataset\n",
    "\n",
    "Nous sauvegardons le dataset dans plusieurs formats pour faciliter son utilisation ultérieure."
   ]
  },
  {
   "cell_type": "code",
   "metadata": {
    "ExecuteTime": {
     "end_time": "2025-09-02T13:13:41.629742Z",
     "start_time": "2025-09-02T13:13:41.622579Z"
    }
   },
   "source": [
    "import os\n",
    "from pathlib import Path\n",
    "\n",
    "# Création du dossier de sortie\n",
    "output_dir = Path(\"../data/synthetic\")\n",
    "output_dir.mkdir(parents=True, exist_ok=True)\n",
    "\n",
    "# Format Alpaca (standard pour le fine-tuning)\n",
    "alpaca_data = [pair.to_alpaca_format() for pair in synthetic_pairs]\n",
    "alpaca_path = output_dir / \"synthetic_dataset_alpaca.json\"\n",
    "with open(alpaca_path, 'w', encoding='utf-8') as f:\n",
    "    json.dump(alpaca_data, f, ensure_ascii=False, indent=2)\n",
    "print(f\"✅ Dataset au format Alpaca sauvegardé : {alpaca_path}\")\n",
    "\n",
    "# Format CSV pour l'analyse\n",
    "csv_path = output_dir / \"synthetic_dataset.csv\"\n",
    "df.to_csv(csv_path, index=False, encoding='utf-8')\n",
    "print(f\"✅ Dataset CSV sauvegardé : {csv_path}\")\n",
    "\n",
    "# Format JSONL (ligne par ligne, efficace pour le streaming)\n",
    "jsonl_path = output_dir / \"synthetic_dataset.jsonl\"\n",
    "with open(jsonl_path, 'w', encoding='utf-8') as f:\n",
    "    for pair in synthetic_pairs:\n",
    "        f.write(json.dumps(pair.to_dict(), ensure_ascii=False) + '\\n')\n",
    "print(f\"✅ Dataset JSONL sauvegardé : {jsonl_path}\")"
   ],
   "outputs": [
    {
     "name": "stdout",
     "output_type": "stream",
     "text": [
      "✅ Dataset au format Alpaca sauvegardé : ../data/synthetic/synthetic_dataset_alpaca.json\n",
      "✅ Dataset CSV sauvegardé : ../data/synthetic/synthetic_dataset.csv\n",
      "✅ Dataset JSONL sauvegardé : ../data/synthetic/synthetic_dataset.jsonl\n"
     ]
    }
   ],
   "execution_count": 34
  },
  {
   "cell_type": "markdown",
   "metadata": {},
   "source": [
    "## 9. Contrôle qualité et filtrage\n",
    "\n",
    "Il est important de vérifier la qualité des données générées avant de les utiliser pour le fine-tuning."
   ]
  },
  {
   "cell_type": "code",
   "metadata": {
    "ExecuteTime": {
     "end_time": "2025-09-02T13:13:41.961036Z",
     "start_time": "2025-09-02T13:13:41.956594Z"
    }
   },
   "source": [
    "def quality_check(pair: InstructionPair) -> Tuple[bool, List[str]]:\n",
    "    \"\"\"\n",
    "    Vérifie la qualité d'une paire instruction-réponse.\n",
    "    \n",
    "    Returns:\n",
    "        (pass_check, list_of_issues)\n",
    "    \"\"\"\n",
    "    issues = []\n",
    "    \n",
    "    # Vérifications de base\n",
    "    if len(pair.instruction) < 10:\n",
    "        issues.append(\"Instruction trop courte\")\n",
    "    if len(pair.response) < 20:\n",
    "        issues.append(\"Réponse trop courte\")\n",
    "    if len(pair.instruction) > 500:\n",
    "        issues.append(\"Instruction trop longue\")\n",
    "    if len(pair.response) > 1000:\n",
    "        issues.append(\"Réponse trop longue\")\n",
    "    \n",
    "    # Vérification de la présence de caractères spéciaux problématiques\n",
    "    if any(char in pair.instruction + pair.response for char in ['\\x00', '\\r']):\n",
    "        issues.append(\"Caractères spéciaux détectés\")\n",
    "    \n",
    "    # Vérification de la cohérence\n",
    "    if '?' not in pair.instruction:\n",
    "        issues.append(\"L'instruction ne contient pas de question\")\n",
    "    \n",
    "    return len(issues) == 0, issues\n",
    "\n",
    "# Application du contrôle qualité\n",
    "quality_results = []\n",
    "for pair in synthetic_pairs:\n",
    "    passed, issues = quality_check(pair)\n",
    "    quality_results.append({\n",
    "        'passed': passed,\n",
    "        'issues': issues,\n",
    "        'pair': pair\n",
    "    })\n",
    "\n",
    "# Statistiques de qualité\n",
    "passed_count = sum(1 for r in quality_results if r['passed'])\n",
    "print(f\"📊 Résultats du contrôle qualité :\")\n",
    "print(f\"   - Paires validées : {passed_count}/{len(quality_results)} ({100*passed_count/len(quality_results):.1f}%)\")\n",
    "\n",
    "# Affichage des problèmes les plus fréquents\n",
    "all_issues = [issue for r in quality_results for issue in r['issues']]\n",
    "if all_issues:\n",
    "    from collections import Counter\n",
    "    issue_counts = Counter(all_issues)\n",
    "    print(\"\\n🔍 Problèmes détectés :\")\n",
    "    for issue, count in issue_counts.most_common(5):\n",
    "        print(f\"   - {issue}: {count} occurrences\")"
   ],
   "outputs": [
    {
     "name": "stdout",
     "output_type": "stream",
     "text": [
      "📊 Résultats du contrôle qualité :\n",
      "   - Paires validées : 21/36 (58.3%)\n",
      "\n",
      "🔍 Problèmes détectés :\n",
      "   - Réponse trop longue: 15 occurrences\n"
     ]
    }
   ],
   "execution_count": 35
  },
  {
   "cell_type": "code",
   "metadata": {
    "ExecuteTime": {
     "end_time": "2025-09-02T13:13:42.124318Z",
     "start_time": "2025-09-02T13:13:42.121366Z"
    }
   },
   "source": [
    "# Sauvegarde du dataset filtré\n",
    "filtered_pairs = [r['pair'] for r in quality_results if r['passed']]\n",
    "\n",
    "if filtered_pairs:\n",
    "    filtered_path = output_dir / \"synthetic_dataset_filtered.json\"\n",
    "    with open(filtered_path, 'w', encoding='utf-8') as f:\n",
    "        json.dump(\n",
    "            [pair.to_alpaca_format() for pair in filtered_pairs],\n",
    "            f,\n",
    "            ensure_ascii=False,\n",
    "            indent=2\n",
    "        )\n",
    "    print(f\"\\n✅ Dataset filtré sauvegardé : {filtered_path}\")\n",
    "    print(f\"   Contient {len(filtered_pairs)} paires de haute qualité\")"
   ],
   "outputs": [
    {
     "name": "stdout",
     "output_type": "stream",
     "text": [
      "\n",
      "✅ Dataset filtré sauvegardé : ../data/synthetic/synthetic_dataset_filtered.json\n",
      "   Contient 21 paires de haute qualité\n"
     ]
    }
   ],
   "execution_count": 36
  },
  {
   "cell_type": "markdown",
   "metadata": {},
   "source": [
    "## 10. Préparation pour le fine-tuning\n",
    "\n",
    "### Recommandations pour l'étape suivante\n",
    "\n",
    "Votre dataset synthétique est maintenant prêt pour le fine-tuning ! Voici quelques recommandations :\n",
    "\n",
    "1. **Taille du dataset** : \n",
    "   - Minimum recommandé : 100-500 paires pour un fine-tuning basique\n",
    "   - Idéal : 1000-5000 paires pour de meilleurs résultats\n",
    "\n",
    "2. **Diversité** :\n",
    "   - Variez les types de questions (factuelle, analytique, créative)\n",
    "   - Utilisez différents domaines de contexte\n",
    "\n",
    "3. **Qualité** :\n",
    "   - Privilégiez la qualité à la quantité\n",
    "   - Vérifiez manuellement un échantillon\n",
    "\n",
    "4. **Format** :\n",
    "   - Le format Alpaca est directement utilisable avec la plupart des frameworks\n",
    "   - Gardez une trace du contexte original pour l'évaluation"
   ]
  },
  {
   "cell_type": "code",
   "metadata": {
    "ExecuteTime": {
     "end_time": "2025-09-02T13:13:42.448700Z",
     "start_time": "2025-09-02T13:13:42.446282Z"
    }
   },
   "source": [
    "# Résumé final\n",
    "print(\"🎉 Génération de dataset synthétique terminée !\\n\")\n",
    "print(\"📊 Résumé :\")\n",
    "print(f\"   - Documents sources traités : {NUM_DOCS_TO_PROCESS}\")\n",
    "print(f\"   - Paires générées : {len(synthetic_pairs)}\")\n",
    "print(f\"   - Paires de haute qualité : {len(filtered_pairs) if filtered_pairs else 0}\")\n",
    "print(f\"\\n📁 Fichiers créés :\")\n",
    "print(f\"   - {alpaca_path.name} (format Alpaca pour fine-tuning)\")\n",
    "print(f\"   - {csv_path.name} (format CSV pour analyse)\")\n",
    "print(f\"   - {jsonl_path.name} (format JSONL pour streaming)\")\n",
    "if filtered_pairs:\n",
    "    print(f\"   - {filtered_path.name} (dataset filtré)\")\n",
    "\n",
    "print(\"\\n🚀 Prochaine étape : Notebook 02 - Fine-tuning avec LoRA\")"
   ],
   "outputs": [
    {
     "name": "stdout",
     "output_type": "stream",
     "text": [
      "🎉 Génération de dataset synthétique terminée !\n",
      "\n",
      "📊 Résumé :\n",
      "   - Documents sources traités : 50\n",
      "   - Paires générées : 36\n",
      "   - Paires de haute qualité : 21\n",
      "\n",
      "📁 Fichiers créés :\n",
      "   - synthetic_dataset_alpaca.json (format Alpaca pour fine-tuning)\n",
      "   - synthetic_dataset.csv (format CSV pour analyse)\n",
      "   - synthetic_dataset.jsonl (format JSONL pour streaming)\n",
      "   - synthetic_dataset_filtered.json (dataset filtré)\n",
      "\n",
      "🚀 Prochaine étape : Notebook 02 - Fine-tuning avec LoRA\n"
     ]
    }
   ],
   "execution_count": 37
  },
  {
   "cell_type": "markdown",
   "metadata": {},
   "source": [
    "## 📚 Pour aller plus loin\n",
    "\n",
    "### Améliorations possibles\n",
    "\n",
    "1. **Diversification des prompts** :\n",
    "   - Créer plusieurs templates de prompts\n",
    "   - Adapter les prompts selon le type de contenu\n",
    "\n",
    "2. **Techniques avancées** :\n",
    "   - Self-instruct : Utiliser le modèle pour générer ses propres instructions\n",
    "\n",
    "3. **Validation** :\n",
    "   - Utiliser un modèle différent pour valider les réponses\n",
    "   - Implémenter un système de scoring\n",
    "   - Cross-validation avec des annotateurs humains\n",
    "\n",
    "\n",
    "### Exercices proposés\n",
    "\n",
    "1. **Modifier les prompts** pour générer des instructions dans un domaine spécifique (médical, juridique, technique)\n",
    "2. **Implémenter un système de scoring** pour évaluer automatiquement la qualité des paires\n",
    "3. **Créer une pipeline de validation** avec le même modèle ou un second modèle (LLM as a judge)\n",
    "4. **Expérimenter avec différentes températures** et analyser l'impact sur la diversité des contenus"
   ]
  }
 ],
 "metadata": {
  "kernelspec": {
   "display_name": "Python 3",
   "language": "python",
   "name": "python3"
  },
  "language_info": {
   "codemirror_mode": {
    "name": "ipython",
    "version": 3
   },
   "file_extension": ".py",
   "mimetype": "text/x-python",
   "name": "python",
   "nbconvert_exporter": "python",
   "pygments_lexer": "ipython3",
   "version": "3.13.0"
  }
 },
 "nbformat": 4,
 "nbformat_minor": 4
}
